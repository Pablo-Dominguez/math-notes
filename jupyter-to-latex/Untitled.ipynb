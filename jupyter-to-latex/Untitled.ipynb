{
 "cells": [
  {
   "cell_type": "code",
   "execution_count": 4,
   "metadata": {},
   "outputs": [
    {
     "name": "stdout",
     "output_type": "stream",
     "text": [
      "\\begin{array}\n",
      "       7 \\\\\n",
      "       3 \n",
      "\\end{array}\n"
     ]
    }
   ],
   "source": [
    "import numpy as np\n",
    "import array_to_latex as a2l\n",
    "A = np.array([[7],[3]])\n",
    "a2l.to_ltx(A, frmt = '{:6}', arraytype = 'array')"
   ]
  }
 ],
 "metadata": {
  "kernelspec": {
   "display_name": "Python 3",
   "language": "python",
   "name": "python3"
  },
  "language_info": {
   "codemirror_mode": {
    "name": "ipython",
    "version": 3
   },
   "file_extension": ".py",
   "mimetype": "text/x-python",
   "name": "python",
   "nbconvert_exporter": "python",
   "pygments_lexer": "ipython3",
   "version": "3.9.1"
  }
 },
 "nbformat": 4,
 "nbformat_minor": 4
}
